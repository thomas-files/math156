{
 "cells": [
  {
   "cell_type": "markdown",
   "id": "40e6be50-dcab-43a2-816a-734af0bead6d",
   "metadata": {},
   "source": [
    "# Stable Solvers: QR & Bidiagonal Matrix Optimization"
   ]
  },
  {
   "cell_type": "markdown",
   "id": "a6948720-60c7-4c59-a7ea-b6f20ffef853",
   "metadata": {},
   "source": [
    "### Part 1"
   ]
  },
  {
   "cell_type": "markdown",
   "id": "b2e8ef61-224b-4277-8648-aab77297f144",
   "metadata": {},
   "source": [
    "#### Part (a)"
   ]
  },
  {
   "cell_type": "code",
   "execution_count": 23,
   "id": "385c550d-3806-438f-8d90-804848ed4a21",
   "metadata": {},
   "outputs": [],
   "source": [
    "import numpy as np\n",
    "import math\n",
    "import matplotlib.pyplot as plt\n",
    "from scipy import linalg\n",
    "np.set_printoptions(precision=14)"
   ]
  },
  {
   "cell_type": "markdown",
   "id": "4da5abec-a428-4f39-9aee-bea1b7de1ca8",
   "metadata": {},
   "source": [
    "Here we look at LAPACK’s low level QR factorization routines and Householder transformations. Further details can be found in the lecture 18 notes. Recall that LAPACK returns a matrix of the form:\n",
    "$$ \\begin{pmatrix}\n",
    "r_{11} & r_{12} & \\ldots & r_{1n}\\\\\n",
    "(v_{1})_{2} & r_{22} & \\ldots & r_{2n}\\\\\n",
    "(v_{1})_{3} & (v_{2})_{3} & \\ddots & \\vdots \\\\\n",
    "\\vdots & \\vdots & \\ddots & r_{nn} \\\\\n",
    " & & & (v_{n})_{n+1}\\\\\n",
    "\\vdots & \\vdots & & \\vdots \\\\\n",
    "(v_{1})_{m} & (v_{2})_{m} & \\ldots & (v_{n})_{m}\n",
    "\\end{pmatrix} $$\n",
    "\n",
    "where the $r_{ij}$ are the entries of the upper triangular matrix R and the bottom entries are the vectors $v_{k}$ from the Householder transformations. Since $v_{k} = (0,...,0,1,∗,...,∗)^T$ where the 1 is in the $k^(\\text{th})$ position, only the entries below the diagonal need to be stored. The $k^(\\text{th})$ Householder reflection is $H_{k} = I - τ_{k}v_{k}v_{k}^T$, and\n",
    "$$Q^T = H_{n}H_{n-1}...H_{1}, Q = H_{1}H_{2}...H_{n}. $$\n",
    "In this problem, as A is a 3 × 2 matrix, we know the QR factorization will be of the form\n",
    "$$ A = QR_{0} = Q\\begin{pmatrix}\n",
    "&\\rlap{\\kern-11ptR} \\\\\n",
    "0 & 0\n",
    "\\end{pmatrix}, \n",
    "R = \\begin{pmatrix}\n",
    "r_{11} & r_{12} \\\\\n",
    "0 & r_{22}\n",
    "\\end{pmatrix}. $$\n",
    "\n",
    "We use the QR factorization to solve the least-squares problem:\n",
    "$$ Ax \\overset{\\mathrm{LS}}{=} b \\rightarrow QR_{0}x \\overset{\\mathrm{LS}}{=} b \\rightarrow R_{0}x \\overset{\\mathrm{LS}}{=} Q^Tb =: y = \\begin{pmatrix}\n",
    "y_{1}\\\\\n",
    "y_{2}\\\\\n",
    "y_{3}\n",
    "\\end{pmatrix} $$\n",
    "Since the last row of $R_0$ contains zeros, the best we can hope for is to solve\n",
    "$$ Rx = \\begin{pmatrix}\n",
    "y_{1}\\\\\n",
    "y_{2}\n",
    "\\end{pmatrix} \\rightarrow y - R_{0}x = \\begin{pmatrix}\n",
    "0\\\\\n",
    "0\\\\\n",
    "y_{3}\n",
    "\\end{pmatrix}$$\n",
    "which gives the least squares solution with error $||r|| = ||b - Ax|| = ||y - R_{0}x|| = |y_{3}|$ since $Q$ and $Q^T$ preserve the 2-norm."
   ]
  },
  {
   "cell_type": "code",
   "execution_count": 24,
   "id": "d66e5325-532f-4c73-9645-f77710cc7131",
   "metadata": {
    "scrolled": true
   },
   "outputs": [
    {
     "name": "stdout",
     "output_type": "stream",
     "text": [
      "[[ 3.               -4.              ]\n",
      " [-0.5              -5.              ]\n",
      " [-0.5               0.33333333333333]]\n",
      "[1.33333333333333 1.8             ]\n",
      "[[-2. ]\n",
      " [-1.4]\n",
      " [ 0.2]]\n",
      "[[-0.29333333333333]\n",
      " [ 0.28            ]]\n",
      "\n"
     ]
    }
   ],
   "source": [
    "A = np.array([-1,6,2,-1,2,-2]).reshape(3,2)\n",
    "b = np.array([2,-1,-1]).reshape(3,1)\n",
    "[qr,tau],R = linalg.qr(A,mode=\"raw\")\n",
    "y,work,info = linalg.lapack.dormqr(\"L\",\"T\", qr, tau, b, 1)\n",
    "x = linalg.solve(R,y[0:2])\n",
    "print(qr)\n",
    "print(tau)\n",
    "print(y)\n",
    "print(x)\n",
    "print(\"\")"
   ]
  },
  {
   "cell_type": "code",
   "execution_count": 25,
   "id": "d442399a-96b3-4f96-8f75-f46dd7640a9c",
   "metadata": {},
   "outputs": [
    {
     "name": "stdout",
     "output_type": "stream",
     "text": [
      "0.29333333333333333\n"
     ]
    }
   ],
   "source": [
    "print(22.0/75)"
   ]
  },
  {
   "cell_type": "markdown",
   "id": "36055c81-8759-4c0c-b263-c9b4ed0d9b5c",
   "metadata": {},
   "source": [
    "The above results show that\n",
    "$$ R = \\begin{pmatrix}\n",
    "3 & -4\\\\\n",
    "0 & -5\n",
    "\\end{pmatrix},$$\n",
    "$$v_{1} = (1,−0.5,−0.5)^T , v_{2} = (0,1,1/3)^T,$$\n",
    "$$τ_{1} = 4/3, τ_{2} = 1.8,$$\n",
    "$$||r|| = |y_{3}| = 0.2 \\text{ and } x = (−22/75,0.28).$$"
   ]
  },
  {
   "cell_type": "markdown",
   "id": "2acccbbe-4eb0-488a-ba1d-8d6879499faa",
   "metadata": {},
   "source": [
    "#### Part (b)"
   ]
  },
  {
   "cell_type": "code",
   "execution_count": 26,
   "id": "786535f6-be7b-4f6b-9418-f450f5f2ee3c",
   "metadata": {},
   "outputs": [
    {
     "name": "stdout",
     "output_type": "stream",
     "text": [
      "[[ 5.    4.  ]\n",
      " [-0.5  -3.  ]\n",
      " [-0.5   0.5 ]\n",
      " [-0.25 -0.5 ]]\n",
      "[1.28             1.33333333333333]\n",
      "[[3.]\n",
      " [6.]\n",
      " [1.]\n",
      " [1.]]\n",
      "[[ 2.2]\n",
      " [-2. ]]\n",
      "\n"
     ]
    }
   ],
   "source": [
    "A = np.array([-1.4,0.16,3.2,2.92,3.2,3.92,1.6,-1.04]).reshape(4,2)\n",
    "b = np.array([-2.44,0.72,-0.28,6.36]).reshape(4,1)\n",
    "[qr,tau],R = linalg.qr(A,mode=\"raw\")\n",
    "y,work,info = linalg.lapack.dormqr(\"L\",\"T\", qr, tau, b, 1)\n",
    "x = linalg.solve(R,y[0:2])\n",
    "print(qr)\n",
    "print(tau)\n",
    "print(y)\n",
    "print(x)\n",
    "print(\"\")"
   ]
  },
  {
   "cell_type": "code",
   "execution_count": 27,
   "id": "da6bdaf3-fae5-40f6-b5fc-002fea141ef8",
   "metadata": {},
   "outputs": [
    {
     "name": "stdout",
     "output_type": "stream",
     "text": [
      "1.4142135623730951\n"
     ]
    }
   ],
   "source": [
    "print(math.sqrt(2))"
   ]
  },
  {
   "cell_type": "markdown",
   "id": "8513c837-3abc-4005-bdb6-b7552a9128d5",
   "metadata": {},
   "source": [
    "The above results show that\n",
    "$$ R = \\begin{pmatrix}\n",
    "5 & 4\\\\\n",
    "0 & -3\n",
    "\\end{pmatrix},$$\n",
    "$$v_{1} = (1,−0.5,−0.5, -0.25)^T , v_{2} = (0,1,0.5,-0.5)^T,$$\n",
    "$$τ_{1} = 1.28, τ_{2} = 4/3,$$\n",
    "$$ y = (3,6,1,1)^T$$\n",
    "$$||r|| = √(y_{3}^2 + y_{4}^2) = √2 \\text{ and } x = \\begin{pmatrix}\n",
    "2.2\\\\\n",
    "-2\n",
    "\\end{pmatrix}.$$"
   ]
  },
  {
   "cell_type": "markdown",
   "id": "ef01669e-68b9-491a-ac1b-dbacd6d316d2",
   "metadata": {},
   "source": [
    "#### Part (c)"
   ]
  },
  {
   "cell_type": "code",
   "execution_count": 28,
   "id": "7362fbba-2b10-4007-b207-8a0fc129186c",
   "metadata": {},
   "outputs": [
    {
     "name": "stdout",
     "output_type": "stream",
     "text": [
      "[[-3.]\n",
      " [ 0.]\n",
      " [ 0.]] [0.]\n"
     ]
    }
   ],
   "source": [
    "A = np.array([-3,0,0]).reshape(3,1)\n",
    "[qr,tau],R = linalg.qr(A,mode=\"raw\")\n",
    "print(qr,tau)"
   ]
  },
  {
   "cell_type": "markdown",
   "id": "37a77910-6b97-4fd5-8bec-e5bf1e19906c",
   "metadata": {},
   "source": [
    "This example shows that LAPACK can replace the $k^\\text{th}$ Householder reflection by the identity matrix (by setting $τ_{k}$ = 0) if that column already points along $e_{k}$, i.e., if all the entries below the main diagonal in that column are zero. Here A is 3 ×1 with all the entries below $a_{11}$ equal to zero, so there is no reason to apply a Householder reflection. (The whole point is to upper-triangularize A.)"
   ]
  },
  {
   "cell_type": "code",
   "execution_count": 29,
   "id": "5ad5fa44-828a-4268-9d20-026f9550b5b9",
   "metadata": {},
   "outputs": [
    {
     "name": "stdout",
     "output_type": "stream",
     "text": [
      "[[ 3.00000000000000e+00]\n",
      " [-0.00000000000000e+00]\n",
      " [-1.66666666666667e-19]] [2.]\n",
      "0.16666666666666666\n"
     ]
    }
   ],
   "source": [
    "A = np.array([-3,0,1.0e-18]).reshape(3,1)\n",
    "[qr,tau],R = linalg.qr(A,mode=\"raw\")\n",
    "print(qr,tau)\n",
    "print(1/6)"
   ]
  },
  {
   "cell_type": "markdown",
   "id": "1bf24243-3ab9-412a-9415-30a17dfcfc6e",
   "metadata": {},
   "source": [
    "Here we added a tiny entry in the (3,1) position. LAPACK goes ahead with the Householder reflection since it is non-zero. So instead of $τ_{1} = 0$, we get $τ_{1} = 2$ in floating-point arithmetic. This\n",
    "can be understood by considering\n",
    "$$ A = (a), a = \\begin{pmatrix}\n",
    "-3 \\\\\n",
    "0 \\\\\n",
    "ϵ\n",
    "\\end{pmatrix}$$\n",
    "\n",
    "Neglecting terms of order $ϵ^2$, we have\n",
    "$$||a|| = √((−3)^2 + ϵ^2) = 3, w = a - ||a||e_{1} = \\begin{pmatrix}\n",
    "-6\\\\\n",
    "0\\\\\n",
    "ϵ\n",
    "\\end{pmatrix}, r = Ha = ||a||e_{1} = \\begin{pmatrix}\n",
    "3\\\\\n",
    "0\\\\\n",
    "0\n",
    "\\end{pmatrix}$$\n",
    "\n",
    "$$ v = \\frac{w}{w_{1}} = \\begin{pmatrix}\n",
    "1\\\\\n",
    "0\\\\\n",
    "-ϵ/6\n",
    "\\end{pmatrix}, τ = \\frac{2}{||v||} = \\frac{2}{√(1+ϵ^2/36)} = 2.$$\n",
    "\n",
    "In the output above, the 3 is the first component of $r = Ha$ while $v_{1} = 1$ is not stored. Note that $v_{2} = 0$ and $v_{3} = -ϵ/6$, exactly as expected."
   ]
  },
  {
   "cell_type": "markdown",
   "id": "dc6b11b2-45a6-4184-908a-f41ffd34afc0",
   "metadata": {},
   "source": [
    "#### Part (d)"
   ]
  },
  {
   "cell_type": "code",
   "execution_count": 30,
   "id": "2e57a5bc-3bb8-4c02-aea1-8a2b7a17e775",
   "metadata": {},
   "outputs": [],
   "source": [
    "def createHilb(m,n):\n",
    "    a = np.zeros((m,n))\n",
    "    for j in range(n):\n",
    "        for i in range(m):\n",
    "            a[i,j] = 1.0/(1+i+j)\n",
    "    return a"
   ]
  },
  {
   "cell_type": "markdown",
   "id": "eb17f417-dfc4-4a38-b20e-921248153620",
   "metadata": {},
   "source": [
    "This part illustrates the relative numerical stability of solving least squares problems using the $QR$ factorization in comparison to solving the normal equations."
   ]
  },
  {
   "cell_type": "code",
   "execution_count": 31,
   "id": "a97cde57-a8c5-42b8-bc8d-1ee9d6962bd7",
   "metadata": {},
   "outputs": [
    {
     "name": "stdout",
     "output_type": "stream",
     "text": [
      "     x0     x1     x2     x1 - x0     x2 - x0\n",
      "[[ 6.839e-01  6.839e-01  6.822e-01  2.079e-12 -1.698e-03]\n",
      " [ 9.282e-01  9.282e-01  1.011e+00 -9.043e-11  8.248e-02]\n",
      " [ 8.638e-01  8.638e-01 -1.339e-01  1.015e-09 -9.977e-01]\n",
      " [ 9.542e-01  9.542e-01  6.031e+00 -4.893e-09  5.077e+00]\n",
      " [ 6.915e-01  6.915e-01 -1.230e+01  1.201e-08 -1.300e+01]\n",
      " [ 7.590e-01  7.590e-01  1.838e+01 -1.576e-08  1.762e+01]\n",
      " [ 3.374e-01  3.374e-01 -1.176e+01  1.053e-08 -1.210e+01]\n",
      " [ 4.702e-01  4.702e-01  3.778e+00 -2.817e-09  3.308e+00]]\n",
      "\n",
      "[-1.251e+00 -1.626e-01  1.467e-02  1.109e-03  7.231e-05  4.088e-06\n",
      " -2.001e-07 -8.413e-09]\n",
      "\n",
      "Relative Error ||x1 - x0|| / ||x0||: 1.1074861523593513e-08\n",
      "Relative Error ||x1 - x0|| / ||x0||: 12.315354007738733\n",
      "\n"
     ]
    },
    {
     "name": "stderr",
     "output_type": "stream",
     "text": [
      "/var/folders/9m/lrwb1sdd7838hlmbsg9xzky80000gn/T/ipykernel_2989/140356498.py:16: LinAlgWarning: Ill-conditioned matrix (rcond=7.51943e-19): result may not be accurate.\n",
      "  x2 = linalg.solve(ATA,ATb)\n"
     ]
    }
   ],
   "source": [
    "m = 12\n",
    "n = 8\n",
    "np.set_printoptions(precision=3)\n",
    "\n",
    "A = createHilb(m,n)\n",
    "x0 = np.random.rand(n,1)\n",
    "b = A @ x0\n",
    "[qr,tau],R = linalg.qr(A,mode=\"raw\")\n",
    "#print(qr)\n",
    "y,work,info = linalg.lapack.dormqr(\"L\", \"T\", qr, tau, b, 1)\n",
    "x1 = linalg.solve(R,y[0:n])\n",
    "\n",
    "AT = A.T\n",
    "ATA = AT@A\n",
    "ATb = AT@b\n",
    "x2 = linalg.solve(ATA,ATb)\n",
    "# print(np.shape(ATA))\n",
    "\n",
    "e1 = x1-x0\n",
    "e2 = x2-x0\n",
    "\n",
    "print(\"     x0     x1     x2     x1 - x0     x2 - x0\")\n",
    "print(np.hstack((x0,x1,x2,e1,e2)))\n",
    "print()\n",
    "print(np.diag(R))\n",
    "print()\n",
    "print(f'Relative Error ||x1 - x0|| / ||x0||: {np.linalg.norm(e1)/np.linalg.norm(x0)}')\n",
    "print(f'Relative Error ||x1 - x0|| / ||x0||: {np.linalg.norm(e2)/np.linalg.norm(x0)}')\n",
    "print()"
   ]
  },
  {
   "cell_type": "markdown",
   "id": "5ad8ad94-a080-405b-8462-708a5ca65ef6",
   "metadata": {},
   "source": [
    "The relative error in $x_{1} - x_{0}$ is much smaller than in $x_{2} - x_{0}$ since the latter involved solving the normal equations, which “squares’’ the condition number. Note that there are 0 correct digits in some of the components of $x_{2}$."
   ]
  },
  {
   "cell_type": "code",
   "execution_count": 32,
   "id": "0d53bc4a-9e99-42a2-bc4c-23a8e65c1cca",
   "metadata": {},
   "outputs": [
    {
     "name": "stdout",
     "output_type": "stream",
     "text": [
      "Condition(A): 1618345614.8484735\n",
      "Condition(R): 1618345615.6998327\n",
      "Condition(R)^2: 2.6190425318548705e+18 <-- more accurate estimate of Condition(ATA)\n",
      "Condition(ATA): 4.888093304964901e+17 <-- corrupted by roundoff error in smallest singular value\n"
     ]
    }
   ],
   "source": [
    "print(f'Condition(A): {np.linalg.cond(A)}')\n",
    "print(f'Condition(R): {np.linalg.cond(R)}')\n",
    "print(f'Condition(R)^2: {np.linalg.cond(R)**2} <-- more accurate estimate of Condition(ATA)')\n",
    "print(f'Condition(ATA): {np.linalg.cond(A.T @ A)} <-- corrupted by roundoff error in smallest singular value')"
   ]
  },
  {
   "cell_type": "markdown",
   "id": "b4b0addd-1ba2-4c57-81fe-910c15228024",
   "metadata": {},
   "source": [
    "Since $A^TA$ is nearly singular, floating-point error prevents the smallest singular value from being computed accurately. cond$(R)^2$ is a more accurate calculation of the condition number of $A^TA$ than cond$(A^TA)$ is. (Recall that the condition number is $σ_{1}/σ_{n}$)."
   ]
  },
  {
   "cell_type": "markdown",
   "id": "54b66073-e30c-44d7-9f63-30a6c1b81811",
   "metadata": {},
   "source": [
    "### Part 2"
   ]
  },
  {
   "cell_type": "markdown",
   "id": "63c886a3-6b90-4976-b087-06cae43fc57b",
   "metadata": {},
   "source": [
    "Calculating $||B||_{1}$ is simple: we just go through each column and add $|a_{j}| + |b_{j+1}|$ to get the absolute column sum (except for the last column which has only $|a_{n}|$). This costs $n$ additions, one for each of the first $n$ columns of $B$, and $n$ comparisons to determine which one is the maximum.\n",
    "\n",
    "Calculating $||B^{-1}||_{1}$ efficiently requires us to be more clever. Explicitly calculating the inverse would take $O(n^2)$ operations, which is far from optimal. Moreover, the inverse matrix itself is lower triangular so it has $O(n^2)$ nonzero entries. So even if we were given $B^{−1}$, this prevents us from applying the same naive implementation we used to calculate $||B||_{1}$ by just traversing the columns and adding up the nonzero entries (because again this would take $O(n^2)$ operations). The key is to re-use work in computing the norms $||y_{j}||$, where $y_{j}$ is the $j^{th}$ column of $B^{-1}$. We can forward-solve $By_{j} = e_{j}$ to obtain a formula for the components of $y_{j}$.\n",
    "\n",
    "For $i<j$, we have y_{j}^i = 0.\n",
    "\n",
    "Then equation $i = j$ is $a_{j}y_{j}^j = 1$, which gives $y_{j}^i = a_{j}^{-1}.$\n",
    "\n",
    "For i > j, the $i^{th}$ equation is $b_{i}y_{j}^{i-1} + a_{i}y_{j}^i = 0, \\text{ or } y_{j}^i = -\\frac{b_{i}}{a_{i}}y_{j}^{i-1}.$ This leads to the product formula\n",
    "\n",
    "$$\\begin{equation}\n",
    " y_{j}^i = \n",
    "  \\begin{cases}\n",
    "  0, & 0 \\leq i < j \\\\\n",
    "  a_{j}^{-1}, & i = j \\\\\n",
    "  \\frac{1}{a_{j}}\\prod_{k = j + 1}^{i} \\frac{-b_{k}}{a_{k}}, & j + 1 \\leq i \\leq n\n",
    "  \\end{cases}\n",
    "\\end{equation}.$$\n",
    "\n",
    "Let $γ_{j} = ||y_{j}||_{1} = \\sum_{i = j}^{n}|y_{j}^i|$. Following the hint, we compute a few starting with $γ_{n}$ looking for a pattern:\n",
    "$$γ_{n} = \\frac{1}{|a_{n}|}$$\n",
    "$$γ_{n-1} = \\frac{1}{|a_{n-1}|}(1+\\frac{|b_{n}|}{|a_{n}|}) = \\frac{1}{|a_{n-1}|}(1 + |b_{n}|γ_{n})$$\n",
    "$$γ_{n-2} = \\frac{1}{|a_{n-2}|}(1+\\frac{|b_{n-1}|}{|a_{n-1}|}(1+\\frac{|b_{n}|}{|a_{n}|})) =  \\frac{1}{|a_{n-2}|}(1 + |b_{n-1}|γ_{n-1})$$\n",
    "$$γ_{n-3} = \\frac{1}{|a_{n-3}|}(1+\\frac{|b_{n-2}|}{|a_{n-2}|}(1+\\frac{|b_{n-1}|}{|a_{n-1}|})(1+\\frac{|b_{n}|}{|a_{n}|})) =  \\frac{1}{|a_{n-3}|}(1 + |b_{n-2}|γ_{n-2})$$\n",
    "\n",
    "Inspecting the general formula for $y_{j}^i$ above, we see that for 0 ≤ j < n,\n",
    "$$γ_{j} = \\frac{1}{|a_{j}|}(1 + \\sum_{i = j+1}^{n} \\prod_{k = j+1}^{i} \\frac{|b_{k}|}{|a_{k}|}) =  \\frac{1}{|a_{j}|}(1 + \\frac{|b_{j+1}|}{|a_{j+1}|}(1 + \\sum_{i = j+2}^{n} \\prod_{k = j+2}^{i} \\frac{|b_{k}|}{|a_{k}|})) = \\frac{1}{|a_{j}|}(1 + |b_{j+1}|γ_{j+1}).$$\n",
    "\n",
    "So we can compute all the $γ_{j}$ with a simple loop:\n",
    "$$ γ_{n} = 1/|a_{n}|$$\n",
    "$$ \\text{for } j = n - 1 \\text{ down to } 0: $$\n",
    "$$ γ_{j} = (1 + |b_{j+1}|γ_{j+1})/|a_{j}|$$\n",
    "\n",
    "This involves $n$ additions, $n$ multiplications, and $n + 1$ divisions. We will also need $n$ comparisons to keep track of the largest $γ_{j}$.\n",
    "\n",
    "The final algorithm to compute $||B||_{1}||B^{-1}||_{1}$ then involves $2n$ additions, $n + 1$ multiplications (the last one to multiply $||B||_{1}$ by $||B^{-1}||_{1}$), $n + 1$ divisions, $2n + 1$ absolute values (each $a_{k}$ and $b_{k}$ can be replaced by |a_{k}| and |b_{k}| just once for both $||B||_{1}$ and $||B^{-1}||_{1}$), and $2n$ comparisons."
   ]
  },
  {
   "cell_type": "code",
   "execution_count": 33,
   "id": "236ae5cb-0ffe-4d42-a635-c3fb92a252e7",
   "metadata": {},
   "outputs": [],
   "source": [
    "def kappa1(a, b):\n",
    "    \"\"\"\n",
    "    Compute the 1-norm condition number of a lower bidiagonal matrix B.\n",
    "    \n",
    "    Parameters:\n",
    "        a (array): Diagonal entries of B (length n+1).\n",
    "        b (array): Subdiagonal entries of B (length n).\n",
    "    \n",
    "    Returns:\n",
    "        kappa (float): The 1-norm condition number of B.\n",
    "    \"\"\"\n",
    "    n = len(b)\n",
    "    aa = abs( a[n] )\n",
    "    mx0 = aa; # for ||B||\n",
    "    gam = 1/aa;\n",
    "    mx1 = gam; # for ||B^{-1}||\n",
    "    for j in range(n,0, -1): # n,n-1,...,1\n",
    "        aa = abs( a[j-1] )\n",
    "        bb = abs( b[j-1] ) # it's b[j] in the notation of the problem\n",
    "        sum = aa + bb\n",
    "        if sum>mx0:\n",
    "            mx0=sum\n",
    "        gam = (1+gam*bb)/aa\n",
    "        if gam>mx1:\n",
    "            mx1=gam\n",
    "    return mx0*mx1"
   ]
  },
  {
   "cell_type": "code",
   "execution_count": 34,
   "id": "2255c5b3-3fea-4b50-9e31-a074c4e19bb9",
   "metadata": {},
   "outputs": [
    {
     "name": "stdout",
     "output_type": "stream",
     "text": [
      "2.9999985694885254\n",
      "6291453.0\n"
     ]
    },
    {
     "data": {
      "image/png": "[encoded data removed]",
      "text/plain": [
       "<Figure size 640x480 with 1 Axes>"
      ]
     },
     "metadata": {},
     "output_type": "display_data"
    },
    {
     "data": {
      "image/png": "[encoded data removed]",
      "text/plain": [
       "<Figure size 640x480 with 1 Axes>"
      ]
     },
     "metadata": {},
     "output_type": "display_data"
    }
   ],
   "source": [
    "# v1[n-1] will store the condition number of the $(n+1)\\times(n+1)$ matrix B\n",
    "# with 2's on the diagonal and 1's on the subdiagonal\n",
    "v1 = np.zeros(50)\n",
    "\n",
    "# v1[n-1] will store the condition number of the $(n+1)\\times(n+1)$ matrix B\n",
    "# with 1's on the diagonal and 2's on the subdiagonal\n",
    "v2 = np.zeros(50)\n",
    "\n",
    "for n in range(1,51): # n=1:50\n",
    "    a = np.ones(n+1)\n",
    "    b = np.ones(n)\n",
    "\n",
    "    # 2's on the main diagonal and 1's on the subdiagonal\n",
    "    v1[n-1] = kappa1(2*a,b)\n",
    "\n",
    "    # 1's on the main diagonal and 2's on the subdiagonal\n",
    "    v2[n-1] = kappa1(a,2*b)\n",
    "\n",
    "print(float(v1[19])) # n=20\n",
    "print(float(v2[19])) # n=20\n",
    "\n",
    "plt.xlabel('n')\n",
    "plt.ylabel('3-k(B)')\n",
    "plt.title('2s on diagonal and 1s on subdiagonal')\n",
    "plt.semilogy(range(1,51),3-v1)\n",
    "plt.show()\n",
    "\n",
    "plt.xlabel('n')\n",
    "plt.ylabel('k(B)')\n",
    "plt.title('1s on diagonal and 2s on subdiagonal')\n",
    "plt.semilogy(range(1,51),v2)\n",
    "plt.show()"
   ]
  },
  {
   "cell_type": "markdown",
   "id": "b6b70cda-46d6-4fd9-bf19-896d8f1c8a7f",
   "metadata": {},
   "source": [
    "In the first case, the condition number converges rapidly to 3 from below. Indeed, we see that $3−κ(B)$ decays exponentially, which leads to the straight line on the semilog plot. In the second\n",
    "case, the condition number grows exponentially."
   ]
  }
 ],
 "metadata": {
  "kernelspec": {
   "display_name": "Python 3 (ipykernel)",
   "language": "python",
   "name": "python3"
  },
  "language_info": {
   "codemirror_mode": {
    "name": "ipython",
    "version": 3
   },
   "file_extension": ".py",
   "mimetype": "text/x-python",
   "name": "python",
   "nbconvert_exporter": "python",
   "pygments_lexer": "ipython3",
   "version": "3.13.2"
  }
 },
 "nbformat": 4,
 "nbformat_minor": 5
}
